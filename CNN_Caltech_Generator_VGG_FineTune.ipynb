{
 "cells": [
  {
   "cell_type": "code",
   "execution_count": 1,
   "id": "43582bd1",
   "metadata": {},
   "outputs": [],
   "source": [
    "import numpy as np\n",
    "import pandas as pd\n",
    "import matplotlib.pyplot as plt\n",
    "import os\n",
    "import cv2\n",
    "import tensorflow as tf\n",
    "from tensorflow.keras.preprocessing.image import ImageDataGenerator\n",
    "from tensorflow.keras.models import Sequential\n",
    "from tensorflow.keras.layers import *\n",
    "from tensorflow.keras.optimizers import *"
   ]
  },
  {
   "cell_type": "code",
   "execution_count": 2,
   "id": "70860055",
   "metadata": {},
   "outputs": [
    {
     "name": "stdout",
     "output_type": "stream",
     "text": [
      "Num GPUs Available:  1\n",
      "2.4.1\n"
     ]
    }
   ],
   "source": [
    "print(\"Num GPUs Available: \", len(tf.config.list_physical_devices('GPU')))\n",
    "print(tf.__version__)"
   ]
  },
  {
   "cell_type": "code",
   "execution_count": 3,
   "id": "83fa7109",
   "metadata": {},
   "outputs": [],
   "source": [
    "# Set parameters here \n",
    "INPUT_SIZE = 224\n",
    "BATCH_SIZE = 16\n",
    "\n",
    "SEED = 12345\n",
    "np.random.seed(SEED)\n",
    "\n",
    "path = r'E:/work/data/101_ObjectCategories'\n",
    "classes = os.listdir(path)\n",
    "myclasses = classes\n",
    "myclasses.remove('BACKGROUND_Google')\n",
    "myclasses.remove('Faces')\n",
    "\n",
    "NUMCLASSES = len(myclasses)\n",
    "\n",
    "mapping = {}\n",
    "for i in range(NUMCLASSES):\n",
    "    mapping[i] = myclasses[i]\n"
   ]
  },
  {
   "cell_type": "code",
   "execution_count": 4,
   "id": "60c8a52c",
   "metadata": {},
   "outputs": [],
   "source": [
    "from skimage import exposure\n",
    "\n",
    "def preprocess(img):\n",
    "    # Contrast stretching\n",
    "    p2, p98 = np.percentile(img, (2, 98))\n",
    "    img_rescale = exposure.rescale_intensity(img, in_range=(p2, p98))\n",
    "    \n",
    "    return img_rescale\n"
   ]
  },
  {
   "cell_type": "code",
   "execution_count": 5,
   "id": "323475f9",
   "metadata": {},
   "outputs": [],
   "source": [
    "train_datagen = ImageDataGenerator(\n",
    "                                featurewise_center=False,\n",
    "                                samplewise_center=True,\n",
    "                                featurewise_std_normalization=False,\n",
    "                                samplewise_std_normalization=True,\n",
    "                                zca_epsilon=1e-06,\n",
    "                                rotation_range=5,\n",
    "                                width_shift_range=0.05,\n",
    "                                height_shift_range=0.05,\n",
    "                                brightness_range=None,\n",
    "                                shear_range=0.5,\n",
    "                                zoom_range=0.05,\n",
    "                                channel_shift_range=0.0,\n",
    "                                fill_mode=\"nearest\",\n",
    "                                cval=0.0,\n",
    "                                horizontal_flip=False,\n",
    "                                vertical_flip=False,\n",
    "                                rescale=1./255,\n",
    "                                preprocessing_function=None,#preprocess,\n",
    "                                data_format=None,\n",
    "                                validation_split=0.2,\n",
    "                                dtype=None,\n",
    "                            )\n"
   ]
  },
  {
   "cell_type": "code",
   "execution_count": 6,
   "id": "6197450f",
   "metadata": {},
   "outputs": [
    {
     "data": {
      "text/html": [
       "<div>\n",
       "<style scoped>\n",
       "    .dataframe tbody tr th:only-of-type {\n",
       "        vertical-align: middle;\n",
       "    }\n",
       "\n",
       "    .dataframe tbody tr th {\n",
       "        vertical-align: top;\n",
       "    }\n",
       "\n",
       "    .dataframe thead th {\n",
       "        text-align: right;\n",
       "    }\n",
       "</style>\n",
       "<table border=\"1\" class=\"dataframe\">\n",
       "  <thead>\n",
       "    <tr style=\"text-align: right;\">\n",
       "      <th></th>\n",
       "      <th>filename</th>\n",
       "      <th>labelnum</th>\n",
       "      <th>label</th>\n",
       "    </tr>\n",
       "  </thead>\n",
       "  <tbody>\n",
       "    <tr>\n",
       "      <th>8237</th>\n",
       "      <td>E:/work/data/101_ObjectCategories/yin_yang/ima...</td>\n",
       "      <td>99</td>\n",
       "      <td>yin_yang</td>\n",
       "    </tr>\n",
       "    <tr>\n",
       "      <th>8238</th>\n",
       "      <td>E:/work/data/101_ObjectCategories/yin_yang/ima...</td>\n",
       "      <td>99</td>\n",
       "      <td>yin_yang</td>\n",
       "    </tr>\n",
       "    <tr>\n",
       "      <th>8239</th>\n",
       "      <td>E:/work/data/101_ObjectCategories/yin_yang/ima...</td>\n",
       "      <td>99</td>\n",
       "      <td>yin_yang</td>\n",
       "    </tr>\n",
       "    <tr>\n",
       "      <th>8240</th>\n",
       "      <td>E:/work/data/101_ObjectCategories/yin_yang/ima...</td>\n",
       "      <td>99</td>\n",
       "      <td>yin_yang</td>\n",
       "    </tr>\n",
       "    <tr>\n",
       "      <th>8241</th>\n",
       "      <td>E:/work/data/101_ObjectCategories/yin_yang/ima...</td>\n",
       "      <td>99</td>\n",
       "      <td>yin_yang</td>\n",
       "    </tr>\n",
       "  </tbody>\n",
       "</table>\n",
       "</div>"
      ],
      "text/plain": [
       "                                               filename  labelnum     label\n",
       "8237  E:/work/data/101_ObjectCategories/yin_yang/ima...        99  yin_yang\n",
       "8238  E:/work/data/101_ObjectCategories/yin_yang/ima...        99  yin_yang\n",
       "8239  E:/work/data/101_ObjectCategories/yin_yang/ima...        99  yin_yang\n",
       "8240  E:/work/data/101_ObjectCategories/yin_yang/ima...        99  yin_yang\n",
       "8241  E:/work/data/101_ObjectCategories/yin_yang/ima...        99  yin_yang"
      ]
     },
     "execution_count": 6,
     "metadata": {},
     "output_type": "execute_result"
    }
   ],
   "source": [
    "# Make a dtaframe with all the file paths and labels\n",
    "allfilelist = []\n",
    "alllabels = []\n",
    "alllabels_word = []\n",
    "for i in range(NUMCLASSES):\n",
    "    filepath = path + '/' + myclasses[i]\n",
    "    filelist = os.listdir(filepath)\n",
    "    for f in filelist:\n",
    "        if f.lower() == 'thumbs.db':\n",
    "            continue\n",
    "        \n",
    "        fullpath = filepath + '/' + f\n",
    "        allfilelist.append(fullpath)\n",
    "        alllabels.append(i)\n",
    "        alllabels_word.append(myclasses[i])\n",
    "        \n",
    "d = {'filename':allfilelist,'labelnum':alllabels,'label':alllabels_word}\n",
    "\n",
    "df = pd.DataFrame(d)\n",
    "df.tail()\n",
    "    \n"
   ]
  },
  {
   "cell_type": "code",
   "execution_count": 7,
   "id": "873d4c1b",
   "metadata": {},
   "outputs": [
    {
     "data": {
      "text/html": [
       "<div>\n",
       "<style scoped>\n",
       "    .dataframe tbody tr th:only-of-type {\n",
       "        vertical-align: middle;\n",
       "    }\n",
       "\n",
       "    .dataframe tbody tr th {\n",
       "        vertical-align: top;\n",
       "    }\n",
       "\n",
       "    .dataframe thead th {\n",
       "        text-align: right;\n",
       "    }\n",
       "</style>\n",
       "<table border=\"1\" class=\"dataframe\">\n",
       "  <thead>\n",
       "    <tr style=\"text-align: right;\">\n",
       "      <th></th>\n",
       "      <th>filename</th>\n",
       "      <th>labelnum</th>\n",
       "      <th>label</th>\n",
       "    </tr>\n",
       "  </thead>\n",
       "  <tbody>\n",
       "    <tr>\n",
       "      <th>7711</th>\n",
       "      <td>E:/work/data/101_ObjectCategories/umbrella/ima...</td>\n",
       "      <td>92</td>\n",
       "      <td>umbrella</td>\n",
       "    </tr>\n",
       "    <tr>\n",
       "      <th>1572</th>\n",
       "      <td>E:/work/data/101_ObjectCategories/camera/image...</td>\n",
       "      <td>13</td>\n",
       "      <td>camera</td>\n",
       "    </tr>\n",
       "    <tr>\n",
       "      <th>1531</th>\n",
       "      <td>E:/work/data/101_ObjectCategories/butterfly/im...</td>\n",
       "      <td>12</td>\n",
       "      <td>butterfly</td>\n",
       "    </tr>\n",
       "    <tr>\n",
       "      <th>8044</th>\n",
       "      <td>E:/work/data/101_ObjectCategories/wheelchair/i...</td>\n",
       "      <td>95</td>\n",
       "      <td>wheelchair</td>\n",
       "    </tr>\n",
       "    <tr>\n",
       "      <th>7602</th>\n",
       "      <td>E:/work/data/101_ObjectCategories/trilobite/im...</td>\n",
       "      <td>91</td>\n",
       "      <td>trilobite</td>\n",
       "    </tr>\n",
       "  </tbody>\n",
       "</table>\n",
       "</div>"
      ],
      "text/plain": [
       "                                               filename  labelnum       label\n",
       "7711  E:/work/data/101_ObjectCategories/umbrella/ima...        92    umbrella\n",
       "1572  E:/work/data/101_ObjectCategories/camera/image...        13      camera\n",
       "1531  E:/work/data/101_ObjectCategories/butterfly/im...        12   butterfly\n",
       "8044  E:/work/data/101_ObjectCategories/wheelchair/i...        95  wheelchair\n",
       "7602  E:/work/data/101_ObjectCategories/trilobite/im...        91   trilobite"
      ]
     },
     "execution_count": 7,
     "metadata": {},
     "output_type": "execute_result"
    }
   ],
   "source": [
    "# This next line is to use only some x% of the data\n",
    "df = df.sample(frac=1.0)\n",
    "df.head()"
   ]
  },
  {
   "cell_type": "code",
   "execution_count": 8,
   "id": "8180fbc3",
   "metadata": {},
   "outputs": [
    {
     "name": "stdout",
     "output_type": "stream",
     "text": [
      "airplanes       800\n",
      "Motorbikes      798\n",
      "Faces_easy      435\n",
      "watch           239\n",
      "Leopards        200\n",
      "               ... \n",
      "gerenuk          34\n",
      "garfield         34\n",
      "binocular        33\n",
      "metronome        32\n",
      "inline_skate     31\n",
      "Name: label, Length: 100, dtype: int64\n"
     ]
    }
   ],
   "source": [
    "print(df['label'].value_counts())"
   ]
  },
  {
   "cell_type": "code",
   "execution_count": 9,
   "id": "a1b5f826",
   "metadata": {},
   "outputs": [
    {
     "name": "stdout",
     "output_type": "stream",
     "text": [
      "Found 6594 validated image filenames belonging to 100 classes.\n",
      "Found 1648 validated image filenames belonging to 100 classes.\n"
     ]
    }
   ],
   "source": [
    "\n",
    "\n",
    "training_set = train_datagen.flow_from_dataframe(\n",
    "                                            dataframe=df,\n",
    "                                            directory='',\n",
    "                                            x_col=\"filename\",\n",
    "                                            y_col=\"label\",\n",
    "                                            #weight_col=None,\n",
    "                                            target_size=(INPUT_SIZE, INPUT_SIZE),\n",
    "                                            color_mode=\"rgb\",\n",
    "                                            classes=None,\n",
    "                                            class_mode=\"categorical\",\n",
    "                                            batch_size=BATCH_SIZE,\n",
    "                                            shuffle=True,\n",
    "                                            seed=None,\n",
    "                                            save_to_dir=None,\n",
    "                                            save_prefix=\"\",\n",
    "                                            save_format=\"png\",\n",
    "                                            subset='training',\n",
    "                                            interpolation=\"nearest\",\n",
    "                                            #validate_filenames=True\n",
    "                                        )\n",
    "\n",
    "validation_set = train_datagen.flow_from_dataframe( dataframe=df,\n",
    "                                            directory='',\n",
    "                                            x_col=\"filename\",\n",
    "                                            y_col=\"label\",\n",
    "                                            #weight_col=None,\n",
    "                                            target_size=(INPUT_SIZE, INPUT_SIZE),\n",
    "                                            color_mode=\"rgb\",\n",
    "                                            classes=None,\n",
    "                                            class_mode=\"categorical\",\n",
    "                                            batch_size=BATCH_SIZE,\n",
    "                                            shuffle=True,\n",
    "                                            seed=None,\n",
    "                                            save_to_dir=None,\n",
    "                                            save_prefix=\"\",\n",
    "                                            save_format=\"png\",\n",
    "                                            subset='validation',\n",
    "                                            interpolation=\"nearest\",\n",
    "                                            #validate_filenames=True\n",
    "                                            )"
   ]
  },
  {
   "cell_type": "code",
   "execution_count": 10,
   "id": "a76afb95",
   "metadata": {},
   "outputs": [
    {
     "name": "stdout",
     "output_type": "stream",
     "text": [
      "<tensorflow.python.keras.engine.input_layer.InputLayer object at 0x00000175BB0E7E50> False\n",
      "<tensorflow.python.keras.layers.convolutional.Conv2D object at 0x00000175BB66A460> False\n",
      "<tensorflow.python.keras.layers.convolutional.Conv2D object at 0x00000175BB66AC40> False\n",
      "<tensorflow.python.keras.layers.pooling.MaxPooling2D object at 0x00000175BB66A8E0> False\n",
      "<tensorflow.python.keras.layers.convolutional.Conv2D object at 0x00000175BB21C430> False\n",
      "<tensorflow.python.keras.layers.convolutional.Conv2D object at 0x00000175BB22B5E0> False\n",
      "<tensorflow.python.keras.layers.pooling.MaxPooling2D object at 0x00000175BB22B700> False\n",
      "<tensorflow.python.keras.layers.convolutional.Conv2D object at 0x00000175BB235FA0> False\n",
      "<tensorflow.python.keras.layers.convolutional.Conv2D object at 0x00000175BB243100> False\n",
      "<tensorflow.python.keras.layers.convolutional.Conv2D object at 0x00000175BB248B20> False\n",
      "<tensorflow.python.keras.layers.pooling.MaxPooling2D object at 0x00000175BB22B850> False\n",
      "<tensorflow.python.keras.layers.convolutional.Conv2D object at 0x00000175BB400D90> False\n",
      "<tensorflow.python.keras.layers.convolutional.Conv2D object at 0x00000175BB408520> False\n",
      "<tensorflow.python.keras.layers.convolutional.Conv2D object at 0x00000175BB408E80> False\n",
      "<tensorflow.python.keras.layers.pooling.MaxPooling2D object at 0x00000175BB24DA00> False\n",
      "<tensorflow.python.keras.layers.convolutional.Conv2D object at 0x00000175BB421A90> True\n",
      "<tensorflow.python.keras.layers.convolutional.Conv2D object at 0x00000175BB4263D0> True\n",
      "<tensorflow.python.keras.layers.convolutional.Conv2D object at 0x00000175BB4218B0> True\n",
      "<tensorflow.python.keras.layers.pooling.MaxPooling2D object at 0x00000175BB43E460> True\n"
     ]
    }
   ],
   "source": [
    "from tensorflow.keras.applications import VGG16\n",
    "\n",
    "\n",
    "#Load the VGG model\n",
    "vgg_conv = VGG16(weights='imagenet', include_top=False, input_shape=(INPUT_SIZE, INPUT_SIZE, 3))\n",
    "\n",
    "# Freeze the layers except the last 4 layers\n",
    "for layer in vgg_conv.layers[:-4]:\n",
    "    layer.trainable = False\n",
    "\n",
    "# Check the trainable status of the individual layers\n",
    "for layer in vgg_conv.layers:\n",
    "    print(layer, layer.trainable)"
   ]
  },
  {
   "cell_type": "code",
   "execution_count": 11,
   "id": "e517f04d",
   "metadata": {},
   "outputs": [
    {
     "name": "stdout",
     "output_type": "stream",
     "text": [
      "Model: \"vgg16\"\n",
      "_________________________________________________________________\n",
      "Layer (type)                 Output Shape              Param #   \n",
      "=================================================================\n",
      "input_1 (InputLayer)         [(None, 224, 224, 3)]     0         \n",
      "_________________________________________________________________\n",
      "block1_conv1 (Conv2D)        (None, 224, 224, 64)      1792      \n",
      "_________________________________________________________________\n",
      "block1_conv2 (Conv2D)        (None, 224, 224, 64)      36928     \n",
      "_________________________________________________________________\n",
      "block1_pool (MaxPooling2D)   (None, 112, 112, 64)      0         \n",
      "_________________________________________________________________\n",
      "block2_conv1 (Conv2D)        (None, 112, 112, 128)     73856     \n",
      "_________________________________________________________________\n",
      "block2_conv2 (Conv2D)        (None, 112, 112, 128)     147584    \n",
      "_________________________________________________________________\n",
      "block2_pool (MaxPooling2D)   (None, 56, 56, 128)       0         \n",
      "_________________________________________________________________\n",
      "block3_conv1 (Conv2D)        (None, 56, 56, 256)       295168    \n",
      "_________________________________________________________________\n",
      "block3_conv2 (Conv2D)        (None, 56, 56, 256)       590080    \n",
      "_________________________________________________________________\n",
      "block3_conv3 (Conv2D)        (None, 56, 56, 256)       590080    \n",
      "_________________________________________________________________\n",
      "block3_pool (MaxPooling2D)   (None, 28, 28, 256)       0         \n",
      "_________________________________________________________________\n",
      "block4_conv1 (Conv2D)        (None, 28, 28, 512)       1180160   \n",
      "_________________________________________________________________\n",
      "block4_conv2 (Conv2D)        (None, 28, 28, 512)       2359808   \n",
      "_________________________________________________________________\n",
      "block4_conv3 (Conv2D)        (None, 28, 28, 512)       2359808   \n",
      "_________________________________________________________________\n",
      "block4_pool (MaxPooling2D)   (None, 14, 14, 512)       0         \n",
      "_________________________________________________________________\n",
      "block5_conv1 (Conv2D)        (None, 14, 14, 512)       2359808   \n",
      "_________________________________________________________________\n",
      "block5_conv2 (Conv2D)        (None, 14, 14, 512)       2359808   \n",
      "_________________________________________________________________\n",
      "block5_conv3 (Conv2D)        (None, 14, 14, 512)       2359808   \n",
      "_________________________________________________________________\n",
      "block5_pool (MaxPooling2D)   (None, 7, 7, 512)         0         \n",
      "=================================================================\n",
      "Total params: 14,714,688\n",
      "Trainable params: 7,079,424\n",
      "Non-trainable params: 7,635,264\n",
      "_________________________________________________________________\n"
     ]
    }
   ],
   "source": [
    "vgg_conv.summary()"
   ]
  },
  {
   "cell_type": "code",
   "execution_count": 12,
   "id": "355e3a46",
   "metadata": {},
   "outputs": [
    {
     "name": "stdout",
     "output_type": "stream",
     "text": [
      "Model: \"sequential\"\n",
      "_________________________________________________________________\n",
      "Layer (type)                 Output Shape              Param #   \n",
      "=================================================================\n",
      "vgg16 (Functional)           (None, 7, 7, 512)         14714688  \n",
      "_________________________________________________________________\n",
      "flatten (Flatten)            (None, 25088)             0         \n",
      "_________________________________________________________________\n",
      "dense (Dense)                (None, 1024)              25691136  \n",
      "_________________________________________________________________\n",
      "dropout (Dropout)            (None, 1024)              0         \n",
      "_________________________________________________________________\n",
      "dense_1 (Dense)              (None, 100)               102500    \n",
      "=================================================================\n",
      "Total params: 40,508,324\n",
      "Trainable params: 32,873,060\n",
      "Non-trainable params: 7,635,264\n",
      "_________________________________________________________________\n"
     ]
    }
   ],
   "source": [
    "from tensorflow.keras import models\n",
    "from tensorflow.keras import layers\n",
    "from tensorflow.keras import optimizers\n",
    "\n",
    "# Create the model\n",
    "model = models.Sequential()\n",
    "\n",
    "# Add the vgg convolutional base model\n",
    "model.add(vgg_conv)\n",
    " \n",
    "# Add new layers\n",
    "model.add(layers.Flatten())\n",
    "model.add(layers.Dense(1024, activation='relu'))\n",
    "model.add(layers.Dropout(0.5))\n",
    "model.add(layers.Dense(NUMCLASSES, activation='softmax'))\n",
    "\n",
    "# Show a summary of the model. Check the number of trainable parameters\n",
    "model.summary()\n"
   ]
  },
  {
   "cell_type": "code",
   "execution_count": 13,
   "id": "403b52d6",
   "metadata": {},
   "outputs": [
    {
     "name": "stdout",
     "output_type": "stream",
     "text": [
      "Epoch 1/10\n",
      "413/413 [==============================] - 411s 962ms/step - loss: 2.3488 - acc: 0.5125 - val_loss: 0.4719 - val_acc: 0.8762\n",
      "Epoch 2/10\n",
      "413/413 [==============================] - 214s 518ms/step - loss: 0.3947 - acc: 0.8949 - val_loss: 0.3700 - val_acc: 0.9029\n",
      "Epoch 3/10\n",
      "413/413 [==============================] - 233s 564ms/step - loss: 0.2058 - acc: 0.9446 - val_loss: 0.3808 - val_acc: 0.9084\n",
      "Epoch 4/10\n",
      "413/413 [==============================] - 233s 565ms/step - loss: 0.1255 - acc: 0.9673 - val_loss: 0.5357 - val_acc: 0.9084\n",
      "Epoch 5/10\n",
      "413/413 [==============================] - 227s 549ms/step - loss: 0.1322 - acc: 0.9701 - val_loss: 0.4428 - val_acc: 0.9059\n",
      "Epoch 6/10\n",
      "413/413 [==============================] - 223s 540ms/step - loss: 0.0949 - acc: 0.9778 - val_loss: 0.9655 - val_acc: 0.8829\n",
      "Epoch 7/10\n",
      "413/413 [==============================] - 221s 535ms/step - loss: 0.1185 - acc: 0.9744 - val_loss: 0.9223 - val_acc: 0.8932\n",
      "Epoch 8/10\n",
      "413/413 [==============================] - 296s 717ms/step - loss: 0.1032 - acc: 0.9800 - val_loss: 1.0169 - val_acc: 0.8829\n",
      "Epoch 9/10\n",
      "413/413 [==============================] - 363s 878ms/step - loss: 0.1117 - acc: 0.9810 - val_loss: 0.9293 - val_acc: 0.8975\n",
      "Epoch 10/10\n",
      "413/413 [==============================] - 237s 573ms/step - loss: 0.1052 - acc: 0.9805 - val_loss: 0.9834 - val_acc: 0.8968\n",
      "Saved model to disk after 10 epochs.\n"
     ]
    }
   ],
   "source": [
    "#Training\n",
    "\n",
    "model.compile(loss='categorical_crossentropy', optimizer=optimizers.RMSprop(lr=1e-4), metrics=['acc'])\n",
    "num_epochs = 10\n",
    "history = model.fit(training_set, steps_per_epoch=len(training_set), epochs=num_epochs, validation_data=validation_set,\n",
    "                   validation_steps = len(validation_set))\n",
    "\n",
    "model.save_weights(\"model-normalized-aug-vgg.h5\")\n",
    "print(\"Saved model to disk after\",num_epochs,\"epochs.\")\n",
    "# model.load_weights('model-normalized-aug.h5')"
   ]
  },
  {
   "cell_type": "code",
   "execution_count": 14,
   "id": "b981c643",
   "metadata": {},
   "outputs": [
    {
     "data": {
      "text/plain": [
       "dict_keys(['loss', 'acc', 'val_loss', 'val_acc'])"
      ]
     },
     "execution_count": 14,
     "metadata": {},
     "output_type": "execute_result"
    }
   ],
   "source": [
    "history.history.keys()"
   ]
  },
  {
   "cell_type": "code",
   "execution_count": 15,
   "id": "8041f821",
   "metadata": {},
   "outputs": [
    {
     "data": {
      "image/png": "[encoded data removed]",
      "text/plain": [
       "<Figure size 576x288 with 1 Axes>"
      ]
     },
     "metadata": {
      "needs_background": "light"
     },
     "output_type": "display_data"
    }
   ],
   "source": [
    "fig = plt.figure(figsize=(8,4))\n",
    "plt.plot(history.history['loss'],color='red')\n",
    "plt.plot(history.history['acc'],color='green')\n",
    "plt.plot(history.history['val_loss'],color='magenta')\n",
    "plt.plot(history.history['val_acc'],color='blue')\n",
    "plt.show()"
   ]
  },
  {
   "cell_type": "code",
   "execution_count": 17,
   "id": "8a1d84b4",
   "metadata": {},
   "outputs": [
    {
     "name": "stdout",
     "output_type": "stream",
     "text": [
      "Actual Class: sea_horse\n",
      "Predictions:\n",
      "sea_horse : 0.56861234\n",
      "elephant : 0.4053007\n",
      "strawberry : 0.009497442\n",
      "platypus : 0.0063685747\n",
      "brain : 0.0034148458\n"
     ]
    },
    {
     "data": {
      "image/png": "[encoded data removed]",
      "text/plain": [
       "<Figure size 432x288 with 1 Axes>"
      ]
     },
     "metadata": {
      "needs_background": "light"
     },
     "output_type": "display_data"
    }
   ],
   "source": [
    "# Get random image\n",
    "classnum = np.random.randint(NUMCLASSES)\n",
    "folder = path + '/' + myclasses[classnum]\n",
    "filelist = os.listdir(folder)\n",
    "i = np.random.randint(len(filelist))\n",
    "while filelist[i].lower()=='thumbs.db':\n",
    "    i = np.random.randint(len(filelist))\n",
    "image_path = folder + '/' + filelist[i]\n",
    "image = cv2.imread(image_path)\n",
    "plt.imshow(image)\n",
    "\n",
    "# Prepare image\n",
    "img = tf.keras.preprocessing.image.load_img(image_path)\n",
    "img = tf.keras.preprocessing.image.img_to_array(img)\n",
    "#img = preprocess(img)\n",
    "img = cv2.resize(img,(INPUT_SIZE,INPUT_SIZE))\n",
    "img_tensor = np.expand_dims(img, axis=0)\n",
    "img_tensor /= 255.\n",
    "\n",
    "# Print what the top predicted class is\n",
    "#print(img_tensor.shape)\n",
    "preds = model.predict(img_tensor,steps=1)\n",
    "preds = preds.flatten()\n",
    "#print(\"Output Probabilities:\", preds)\n",
    "order = np.argsort(preds)\n",
    "order = order[::-1]\n",
    "print('Actual Class:',myclasses[classnum])\n",
    "print('Predictions:')\n",
    "for i in range(5):\n",
    "    if preds[order[i]] == 0:\n",
    "        break\n",
    "    else:\n",
    "        print(myclasses[order[i]], ':', preds[order[i]])\n"
   ]
  },
  {
   "cell_type": "code",
   "execution_count": null,
   "id": "ae42270a",
   "metadata": {},
   "outputs": [],
   "source": []
  },
  {
   "cell_type": "code",
   "execution_count": null,
   "id": "d6143b7a",
   "metadata": {},
   "outputs": [],
   "source": []
  }
 ],
 "metadata": {
  "kernelspec": {
   "display_name": "Python 3 (ipykernel)",
   "language": "python",
   "name": "python3"
  },
  "language_info": {
   "codemirror_mode": {
    "name": "ipython",
    "version": 3
   },
   "file_extension": ".py",
   "mimetype": "text/x-python",
   "name": "python",
   "nbconvert_exporter": "python",
   "pygments_lexer": "ipython3",
   "version": "3.10.9"
  }
 },
 "nbformat": 4,
 "nbformat_minor": 5
}
